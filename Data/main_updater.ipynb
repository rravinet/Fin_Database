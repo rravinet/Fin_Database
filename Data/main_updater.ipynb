{
 "cells": [
  {
   "cell_type": "code",
   "execution_count": 1,
   "metadata": {},
   "outputs": [],
   "source": [
    "from connect import engine, Daily_Stock_Data, Hourly_Stock_Data, Minute_Stock_Data, Stock_Splits, Stock_News, Company_Financials\n",
    "from log_config import setup_logging\n",
    "from get_company_data import Company_Financials_updater\n",
    "from get_daily_data_sql import Market_Data_updater\n",
    "from get_fin_news import News_Update\n",
    "from get_stock_splits import Stock_Splits_update\n",
    "import pandas as pd\n",
    "import logging\n",
    "from datetime import datetime, timedelta\n",
    "import datetime as dt\n",
    "import pytz\n",
    "from polygon import RESTClient\n",
    "from dotenv import load_dotenv\n",
    "import os\n"
   ]
  },
  {
   "cell_type": "code",
   "execution_count": 2,
   "metadata": {},
   "outputs": [],
   "source": [
    "setup_logging()"
   ]
  },
  {
   "cell_type": "code",
   "execution_count": 3,
   "metadata": {},
   "outputs": [],
   "source": [
    "load_dotenv()\n",
    "key = os.getenv(\"API_KEY\")"
   ]
  },
  {
   "cell_type": "code",
   "execution_count": 4,
   "metadata": {},
   "outputs": [],
   "source": [
    "client = RESTClient(api_key=key)"
   ]
  },
  {
   "cell_type": "code",
   "execution_count": 5,
   "metadata": {},
   "outputs": [],
   "source": [
    "wiki = 'http://en.wikipedia.org/wiki'\n",
    "djia_ticker_list = wiki + '/Dow_Jones_Industrial_Average'\n",
    "sp500_tickers_list = wiki + '/List_of_S%26P_500_companies'\n",
    "tickersSP500 = pd.read_html(sp500_tickers_list)[0].Symbol.to_list()\n",
    "djia_tickers = pd.read_html(djia_ticker_list)[1].Symbol.to_list()"
   ]
  },
  {
   "cell_type": "code",
   "execution_count": 6,
   "metadata": {},
   "outputs": [],
   "source": [
    "#Need to use multiprocessing or asyncio however don't really have the time to implement now\n",
    "\n",
    "company_financials_updater = Company_Financials_updater(tickers=djia_tickers, engine=engine)\n",
    "market_data_updater = Market_Data_updater(tickers=djia_tickers, engine=engine)\n",
    "news_update = News_Update(tickers=djia_tickers, engine=engine)\n",
    "stock_splits_update = Stock_Splits_update(tickers=djia_tickers, engine=engine)\n",
    "\n",
    "\n",
    "company_financials_updater.update_data(client)\n",
    "market_data_updater.update_data(client)\n",
    "news_update.update_data(client)\n",
    "stock_splits_update.update_data(client)"
   ]
  },
  {
   "cell_type": "code",
   "execution_count": 7,
   "metadata": {},
   "outputs": [],
   "source": [
    "market_data_updater = Market_Data_updater(tickers=['AAPL','MSFT'], engine=engine, start_date= '2020-01-05', multiplier= 1, timespan= 'day')\n",
    "market_data_updater.update_data(client)\n",
    "\n"
   ]
  },
  {
   "cell_type": "code",
   "execution_count": null,
   "metadata": {},
   "outputs": [],
   "source": []
  }
 ],
 "metadata": {
  "kernelspec": {
   "display_name": "base",
   "language": "python",
   "name": "python3"
  },
  "language_info": {
   "codemirror_mode": {
    "name": "ipython",
    "version": 3
   },
   "file_extension": ".py",
   "mimetype": "text/x-python",
   "name": "python",
   "nbconvert_exporter": "python",
   "pygments_lexer": "ipython3",
   "version": "3.11.7"
  }
 },
 "nbformat": 4,
 "nbformat_minor": 2
}
