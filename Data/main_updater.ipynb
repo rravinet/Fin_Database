{
 "cells": [
  {
   "cell_type": "code",
   "execution_count": 1,
   "metadata": {},
   "outputs": [],
   "source": [
    "from connect import engine, DailyStockData, HourlyStockData, MinuteStockData, StockSplits, StockNews, CompanyFinancials\n",
    "from log_config import setup_logging\n",
    "from get_company_data import CompanyFinancialsupdater\n",
    "from getstockdata import MarketDataUpdater\n",
    "from get_fin_news import NewsUpdate\n",
    "from get_stock_splits import StockSplitsupdate\n",
    "import pandas as pd\n",
    "import logging\n",
    "from datetime import datetime, timedelta\n",
    "import datetime as dt\n",
    "import pytz\n",
    "from dotenv import load_dotenv\n",
    "import os\n",
    "import asyncio"
   ]
  },
  {
   "cell_type": "code",
   "execution_count": 2,
   "metadata": {},
   "outputs": [],
   "source": [
    "setup_logging()"
   ]
  },
  {
   "cell_type": "code",
   "execution_count": 3,
   "metadata": {},
   "outputs": [],
   "source": [
    "load_dotenv()\n",
    "key = os.getenv(\"API_KEY\")"
   ]
  },
  {
   "cell_type": "code",
   "execution_count": 5,
   "metadata": {},
   "outputs": [],
   "source": [
    "wiki = 'http://en.wikipedia.org/wiki'\n",
    "djia_ticker_list = wiki + '/Dow_Jones_Industrial_Average'\n",
    "sp500_tickers_list = wiki + '/List_of_S%26P_500_companies'\n",
    "tickersSP500 = pd.read_html(sp500_tickers_list)[0].Symbol.to_list()\n",
    "djia_tickers = pd.read_html(djia_ticker_list)[1].Symbol.to_list()"
   ]
  },
  {
   "cell_type": "code",
   "execution_count": 6,
   "metadata": {},
   "outputs": [],
   "source": [
    "company_financials_updater = CompanyFinancialsupdater(tickers=djia_tickers, engine=engine, key=key)\n",
    "market_data_updater = MarketDataUpdater(tickers=djia_tickers, engine=engine, key=key, start_date='2020-01-05', multiplier=1, timespan='minute')\n",
    "news_update = NewsUpdate(tickers=djia_tickers, engine=engine, key=key)\n",
    "stock_splits_update = StockSplitsupdate(tickers=djia_tickers, engine=engine, key=key)"
   ]
  },
  {
   "cell_type": "code",
   "execution_count": 7,
   "metadata": {},
   "outputs": [],
   "source": [
    "async def main():\n",
    "    await asyncio.gather(\n",
    "        company_financials_updater.update_data(),\n",
    "        market_data_updater.update_data(),\n",
    "        news_update.update_data(),\n",
    "        stock_splits_update.update_data()\n",
    "    )"
   ]
  },
  {
   "cell_type": "code",
   "execution_count": 8,
   "metadata": {},
   "outputs": [],
   "source": [
    "if __name__ == '__main__':\n",
    "    asyncio.run(main())"
   ]
  },
  {
   "cell_type": "code",
   "execution_count": null,
   "metadata": {},
   "outputs": [],
   "source": []
  }
 ],
 "metadata": {
  "kernelspec": {
   "display_name": "base",
   "language": "python",
   "name": "python3"
  },
  "language_info": {
   "codemirror_mode": {
    "name": "ipython",
    "version": 3
   },
   "file_extension": ".py",
   "mimetype": "text/x-python",
   "name": "python",
   "nbconvert_exporter": "python",
   "pygments_lexer": "ipython3",
   "version": "3.11.7"
  }
 },
 "nbformat": 4,
 "nbformat_minor": 2
}
