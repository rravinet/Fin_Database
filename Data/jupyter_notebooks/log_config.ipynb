{
 "cells": [
  {
   "cell_type": "code",
   "execution_count": 1,
   "metadata": {},
   "outputs": [],
   "source": [
    "import logging\n",
    "import os"
   ]
  },
  {
   "cell_type": "code",
   "execution_count": 2,
   "metadata": {},
   "outputs": [],
   "source": [
    "def setup_logging():\n",
    "    \n",
    "    root = os.path.dirname(os.path.abspath(__file__))\n",
    "\n",
    "    logs_path = os.path.join(root, 'logs')\n",
    "    os.makedirs(logs_path, exist_ok=True)\n",
    "\n",
    "    logging.basicConfig(\n",
    "        filename=os.path.join(logs_path, 'algo_trading.log'),\n",
    "        level=logging.INFO,\n",
    "        format='%(asctime)s - %(name)s - %(levelname)s - %(message)s - [%(filename)s - %(lineno)d]'\n",
    "    )\n",
    "\n",
    "    sqlalchemy_engine_logger = logging.getLogger('sqlalchemy.engine')\n",
    "    sqlalchemy_engine_logger.setLevel(logging.WARNING)\n"
   ]
  }
 ],
 "metadata": {
  "kernelspec": {
   "display_name": "base",
   "language": "python",
   "name": "python3"
  },
  "language_info": {
   "codemirror_mode": {
    "name": "ipython",
    "version": 3
   },
   "file_extension": ".py",
   "mimetype": "text/x-python",
   "name": "python",
   "nbconvert_exporter": "python",
   "pygments_lexer": "ipython3",
   "version": "3.11.7"
  }
 },
 "nbformat": 4,
 "nbformat_minor": 2
}
