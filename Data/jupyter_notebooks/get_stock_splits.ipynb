{
 "cells": [
  {
   "cell_type": "code",
   "execution_count": null,
   "metadata": {},
   "outputs": [],
   "source": [
    "import sqlalchemy\n",
    "import pandas as pd\n",
    "import numpy as np\n",
    "from polygon import RESTClient\n",
    "import datetime as dt\n",
    "import os\n",
    "from dotenv import load_dotenv\n",
    "from connect import engine, Base, Stock_Splits\n",
    "from log_config import setup_logging\n",
    "from sqlalchemy import select, inspect\n",
    "from sqlalchemy.orm import sessionmaker\n",
    "from sqlalchemy.sql import func\n",
    "import logging"
   ]
  },
  {
   "cell_type": "code",
   "execution_count": null,
   "metadata": {},
   "outputs": [],
   "source": [
    "setup_logging()"
   ]
  },
  {
   "cell_type": "code",
   "execution_count": null,
   "metadata": {},
   "outputs": [],
   "source": [
    "load_dotenv()"
   ]
  },
  {
   "cell_type": "code",
   "execution_count": null,
   "metadata": {},
   "outputs": [],
   "source": [
    "key = os.getenv(\"API_KEY\")"
   ]
  },
  {
   "cell_type": "code",
   "execution_count": null,
   "metadata": {},
   "outputs": [],
   "source": [
    "client = RESTClient(api_key=key)"
   ]
  },
  {
   "cell_type": "code",
   "execution_count": null,
   "metadata": {},
   "outputs": [],
   "source": [
    "wiki = 'http://en.wikipedia.org/wiki'\n",
    "djia_ticker_list = wiki + '/Dow_Jones_Industrial_Average'\n",
    "sp500_tickers_list = wiki + '/List_of_S%26P_500_companies'\n",
    "tickersSP500 = pd.read_html(sp500_tickers_list)[0].Symbol.to_list()\n",
    "djia_tickers = pd.read_html(djia_ticker_list)[1].Symbol.to_list()"
   ]
  },
  {
   "cell_type": "code",
   "execution_count": null,
   "metadata": {},
   "outputs": [],
   "source": [
    "class Stock_Splits_update:\n",
    "    \" Class to update stock split data from Polygon.io\"\n",
    "\n",
    "    def __init__ (self,tickers, engine, limit = 1000):\n",
    "        self.tickers = tickers if isinstance(tickers, list) else [tickers]\n",
    "        self.engine = engine\n",
    "        self.limit = limit\n",
    "        \n",
    "    def transform_data(self,df,ticker):\n",
    "        df['ticker '] = ticker\n",
    "        df['execution_date'] = pd.to_datetime(df['execution_date'])\n",
    "        return df.to_dict(orient = 'records')\n",
    "    \n",
    "    def update_data(self, client):\n",
    "        with self.engine.connect() as conn:\n",
    "            for ticker in self.tickers:\n",
    "                splits = pd.DataFrame(client.list_splits(ticker, limit = self.limit))\n",
    "                if not splits.empty:\n",
    "                    transformed_data = self.transform_data(splits, ticker)\n",
    "                    try:    \n",
    "                        conn.execute(Stock_Splits.__table__.insert(),transformed_data)\n",
    "                        conn.commit()\n",
    "                            \n",
    "                    except Exception as e:\n",
    "                        logging.error(f\"Error updating stock splits for {ticker}: {e}\")\n",
    "                        continue"
   ]
  },
  {
   "cell_type": "code",
   "execution_count": null,
   "metadata": {},
   "outputs": [],
   "source": [
    "updater = Stock_Splits_update(engine=engine, tickers= 'AAPL')"
   ]
  },
  {
   "cell_type": "code",
   "execution_count": null,
   "metadata": {},
   "outputs": [],
   "source": [
    "updater.update_data(client)"
   ]
  },
  {
   "cell_type": "code",
   "execution_count": null,
   "metadata": {},
   "outputs": [],
   "source": []
  }
 ],
 "metadata": {
  "kernelspec": {
   "display_name": "base",
   "language": "python",
   "name": "python3"
  },
  "language_info": {
   "codemirror_mode": {
    "name": "ipython",
    "version": 3
   },
   "file_extension": ".py",
   "mimetype": "text/x-python",
   "name": "python",
   "nbconvert_exporter": "python",
   "pygments_lexer": "ipython3",
   "version": "3.11.7"
  }
 },
 "nbformat": 4,
 "nbformat_minor": 2
}
