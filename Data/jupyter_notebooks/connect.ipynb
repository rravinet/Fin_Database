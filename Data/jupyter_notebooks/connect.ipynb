{
 "cells": [
  {
   "cell_type": "code",
   "execution_count": null,
   "metadata": {},
   "outputs": [],
   "source": [
    "from sqlalchemy import create_engine, text, Integer, String, Float, DateTime, BigInteger\n",
    "from dotenv import load_dotenv\n",
    "import os\n",
    "from sqlalchemy.orm import DeclarativeBase, Mapped, mapped_column\n",
    "from datetime import datetime\n",
    "from sqlalchemy.dialects.postgresql import JSONB"
   ]
  },
  {
   "cell_type": "code",
   "execution_count": null,
   "metadata": {},
   "outputs": [],
   "source": [
    "load_dotenv()\n"
   ]
  },
  {
   "cell_type": "code",
   "execution_count": null,
   "metadata": {},
   "outputs": [],
   "source": [
    "username = os.getenv(\"DATABASE_USERNAME\")\n",
    "password = os.getenv(\"DATABASE_PASSWORD\")\n",
    "host = os.getenv(\"DATABASE_HOST\")\n",
    "port = os.getenv(\"DATABASE_PORT\")\n",
    "database = os.getenv(\"DATABASE_NAME\")\n"
   ]
  },
  {
   "cell_type": "code",
   "execution_count": null,
   "metadata": {},
   "outputs": [],
   "source": [
    "engine = create_engine(f'postgresql://{username}:{password}@{host}:{port}/{database}',echo = True)\n",
    "\n"
   ]
  },
  {
   "cell_type": "code",
   "execution_count": null,
   "metadata": {},
   "outputs": [],
   "source": [
    "class Base(DeclarativeBase):\n",
    "    \n",
    "    pass\n",
    "\n",
    "class Daily_Stock_Data(Base):\n",
    "    \n",
    "    __tablename__ = 'daily_stock_data'\n",
    "    id:Mapped[int] = mapped_column(primary_key=True,autoincrement=True)\n",
    "    date:Mapped[datetime] = mapped_column(DateTime, nullable=False)\n",
    "    timestamp:Mapped[int] = mapped_column(BigInteger, nullable=False)\n",
    "    ticker: Mapped[str] = mapped_column(String(10), nullable=False)\n",
    "    open: Mapped[float] = mapped_column(Float)\n",
    "    high: Mapped[float] = mapped_column(Float)\n",
    "    low: Mapped[float] = mapped_column(Float)\n",
    "    close: Mapped[float] = mapped_column(Float)\n",
    "    volume: Mapped[float] = mapped_column(Float)\n",
    "    vwap: Mapped[float] = mapped_column(Float)\n",
    "    transactions: Mapped[int] = mapped_column(Integer)\n",
    "\n"
   ]
  },
  {
   "cell_type": "code",
   "execution_count": null,
   "metadata": {},
   "outputs": [],
   "source": [
    "class Hourly_Stock_Data(Base):\n",
    "    \n",
    "    __tablename__ = 'hourly_stock_data'\n",
    "    id:Mapped[int] = mapped_column(primary_key=True,autoincrement=True)\n",
    "    date:Mapped[datetime] = mapped_column(DateTime, nullable=False)\n",
    "    timestamp:Mapped[int] = mapped_column(BigInteger, nullable=False)\n",
    "    ticker: Mapped[str] = mapped_column(String(10), nullable=False)\n",
    "    open: Mapped[float] = mapped_column(Float)\n",
    "    high: Mapped[float] = mapped_column(Float)\n",
    "    low: Mapped[float] = mapped_column(Float)\n",
    "    close: Mapped[float] = mapped_column(Float)\n",
    "    volume: Mapped[float] = mapped_column(Float)\n",
    "    vwap: Mapped[float] = mapped_column(Float)\n",
    "    transactions: Mapped[int] = mapped_column(Integer)"
   ]
  },
  {
   "cell_type": "code",
   "execution_count": null,
   "metadata": {},
   "outputs": [],
   "source": [
    "class Minute_Stock_Data(Base):\n",
    "    \n",
    "    __tablename__ = 'minute_stock_data'\n",
    "    id:Mapped[int] = mapped_column(primary_key=True,autoincrement=True)\n",
    "    date:Mapped[datetime] = mapped_column(DateTime, nullable=False)\n",
    "    timestamp:Mapped[int] = mapped_column(BigInteger, nullable=False)\n",
    "    ticker: Mapped[str] = mapped_column(String(10), nullable=False)\n",
    "    open: Mapped[float] = mapped_column(Float)\n",
    "    high: Mapped[float] = mapped_column(Float)\n",
    "    low: Mapped[float] = mapped_column(Float)\n",
    "    close: Mapped[float] = mapped_column(Float)\n",
    "    volume: Mapped[float] = mapped_column(Float)\n",
    "    vwap: Mapped[float] = mapped_column(Float)\n",
    "    transactions: Mapped[int] = mapped_column(Integer)"
   ]
  },
  {
   "cell_type": "code",
   "execution_count": null,
   "metadata": {},
   "outputs": [],
   "source": [
    "class Stock_Splits(Base):\n",
    "    __tablename__ = 'stock_splits'\n",
    "    id:Mapped[int] = mapped_column(primary_key=True, autoincrement=True)\n",
    "    execution_date:Mapped[datetime] = mapped_column(DateTime, nullable=False)\n",
    "    split_from:Mapped[int] = mapped_column(Integer, nullable=False)\n",
    "    split_to:Mapped[int] = mapped_column(Integer, nullable=False)\n",
    "    ticker:Mapped[str] = mapped_column(String(10), nullable=False)\n"
   ]
  },
  {
   "cell_type": "code",
   "execution_count": null,
   "metadata": {},
   "outputs": [],
   "source": [
    "class Stock_News(Base):\n",
    "    __tablename__ = 'stock_news'\n",
    "    id:Mapped[int] = mapped_column(primary_key=True, autoincrement=True)\n",
    "    article_url: Mapped[str] = mapped_column(String, nullable=True)\n",
    "    author: Mapped[str] = mapped_column(String, nullable=True)\n",
    "    description: Mapped[str] = mapped_column(String, nullable=True)\n",
    "    id_polygon: Mapped[str] = mapped_column(String, nullable=True)\n",
    "    keywords: Mapped[str] = mapped_column(String, nullable=True)\n",
    "    published_utc: Mapped[datetime] = mapped_column(DateTime, nullable=False)\n",
    "    tickers: Mapped[str] = mapped_column(String, nullable=True)\n",
    "    ticker_queried: Mapped[str] = mapped_column(String(10), nullable=False)\n",
    "    title: Mapped[str] = mapped_column(String, nullable=True)\n",
    "    \n"
   ]
  },
  {
   "cell_type": "code",
   "execution_count": null,
   "metadata": {},
   "outputs": [],
   "source": [
    "class Company_Financials(Base):\n",
    "    \n",
    "    __tablename__ = 'company_financials'\n",
    "    id:Mapped[int] = mapped_column(primary_key=True, autoincrement=True)\n",
    "    company_name:Mapped[str] = mapped_column(String)\n",
    "    start_date:Mapped[datetime] = mapped_column(DateTime, nullable=False)\n",
    "    end_date:Mapped[datetime] = mapped_column(DateTime, nullable=False)\n",
    "    filing_date:Mapped[datetime] = mapped_column(DateTime, nullable=True)\n",
    "    fiscal_period:Mapped[str] = mapped_column(String)\n",
    "    financials: Mapped[JSONB] = mapped_column(JSONB)\n",
    "    fiscal_year:Mapped[str] = mapped_column(String)"
   ]
  },
  {
   "cell_type": "code",
   "execution_count": null,
   "metadata": {},
   "outputs": [],
   "source": [
    "class Stock_Trades(Base):\n",
    "    __tablename__ = 'stock_trades'\n",
    "    id:Mapped[int] = mapped_column(primary_key=True, autoincrement=True)\n",
    "    conditions: Mapped[str] = mapped_column(String)\n",
    "    date: Mapped[datetime] = mapped_column(DateTime, nullable=False)\n",
    "    exchange : Mapped[int] = mapped_column(Integer)\n",
    "    trade_id : Mapped[str] = mapped_column(String, nullable=False)\n",
    "    participant_timestamp : Mapped[int] = mapped_column(Integer)\n",
    "    price : Mapped[float] = mapped_column(Float, nullable=False)\n",
    "    size : Mapped[float] = mapped_column(Float, nullable=False)\n",
    "    tape : Mapped[int] = mapped_column(Integer)\n",
    "    trf_id : Mapped[float] = mapped_column(Float)\n",
    "    correction: Mapped[float] = mapped_column(Float)\n",
    "    trf_timestamp : Mapped[float] = mapped_column(Float)\n",
    "    sequence_number : Mapped[int] = mapped_column(Integer, nullable=False)\n",
    "    sip_timestamp : Mapped[int] = mapped_column(Integer, nullable=False)\n",
    "    tickers : Mapped[str] = mapped_column(String)\n",
    "    ticker_queried : Mapped[str] = mapped_column(String(10), nullable=False)\n",
    "    title : Mapped[str] = mapped_column(String)\n",
    "    \n",
    "    \n",
    "    \n",
    "    \n",
    "    \n",
    "\n"
   ]
  },
  {
   "cell_type": "code",
   "execution_count": null,
   "metadata": {},
   "outputs": [],
   "source": [
    "Base.metadata.create_all(engine)\n",
    "\n"
   ]
  },
  {
   "cell_type": "code",
   "execution_count": null,
   "metadata": {},
   "outputs": [],
   "source": []
  }
 ],
 "metadata": {
  "kernelspec": {
   "display_name": "base",
   "language": "python",
   "name": "python3"
  },
  "language_info": {
   "codemirror_mode": {
    "name": "ipython",
    "version": 3
   },
   "file_extension": ".py",
   "mimetype": "text/x-python",
   "name": "python",
   "nbconvert_exporter": "python",
   "pygments_lexer": "ipython3",
   "version": "3.11.7"
  }
 },
 "nbformat": 4,
 "nbformat_minor": 2
}
