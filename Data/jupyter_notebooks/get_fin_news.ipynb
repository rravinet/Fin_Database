{
 "cells": [
  {
   "cell_type": "code",
   "execution_count": null,
   "metadata": {},
   "outputs": [],
   "source": [
    "\n",
    "import sqlalchemy\n",
    "import pandas as pd\n",
    "import numpy as np\n",
    "from polygon import RESTClient\n",
    "import datetime as dt\n",
    "import os\n",
    "from dotenv import load_dotenv\n",
    "from connect import engine, Base, Stock_News\n",
    "from sqlalchemy import select, inspect\n",
    "from sqlalchemy.orm import sessionmaker\n",
    "from sqlalchemy.sql import func\n",
    "import logging\n",
    "from log_config import setup_logging\n",
    "import pytz"
   ]
  },
  {
   "cell_type": "code",
   "execution_count": null,
   "metadata": {},
   "outputs": [],
   "source": [
    "setup_logging()"
   ]
  },
  {
   "cell_type": "code",
   "execution_count": null,
   "metadata": {},
   "outputs": [],
   "source": [
    "load_dotenv()"
   ]
  },
  {
   "cell_type": "code",
   "execution_count": null,
   "metadata": {},
   "outputs": [],
   "source": [
    "wiki = 'http://en.wikipedia.org/wiki'"
   ]
  },
  {
   "cell_type": "code",
   "execution_count": null,
   "metadata": {},
   "outputs": [],
   "source": [
    "djia_ticker_list = wiki + '/Dow_Jones_Industrial_Average'\n",
    "sp500_tickers_list = wiki + '/List_of_S%26P_500_companies'\n",
    "tickersSP500 = pd.read_html(sp500_tickers_list)[0].Symbol.to_list()\n",
    "djia_tickers = pd.read_html(djia_ticker_list)[1].Symbol.to_list()"
   ]
  },
  {
   "cell_type": "code",
   "execution_count": null,
   "metadata": {},
   "outputs": [],
   "source": [
    "key = os.getenv(\"API_KEY\")\n",
    "client = RESTClient(api_key=key)"
   ]
  },
  {
   "cell_type": "code",
   "execution_count": null,
   "metadata": {},
   "outputs": [],
   "source": [
    "class News_Update:\n",
    "    \" Class to update stock news data from Polygon.io\"\n",
    "\n",
    "    def __init__(self, tickers, engine, limit = 1000):\n",
    "        self.tickers = tickers if isinstance(tickers, list) else [tickers]\n",
    "        self.engine = engine\n",
    "        self.limit = limit\n",
    "        \n",
    "    def transformed_data(self, ticker_df, ticker):\n",
    "        ticker_df['published_utc'] = pd.to_datetime(ticker_df['published_utc'])\n",
    "        ticker_df['ticker_queried'] = ticker\n",
    "        ticker_df.rename(columns={\"id\": \"id_polygon\"}, inplace=True)\n",
    "        ticker_df.drop(columns=['amp_url', 'image_url', 'publisher'], inplace=True)\n",
    "        return ticker_df.to_dict(orient='records')\n",
    "    \n",
    "    def update_data(self, client):\n",
    "        all_data = []\n",
    "        logging.info(f\"Updating stock news for {self.tickers}\")\n",
    "        \n",
    "        with self.engine.begin() as conn:\n",
    "            for ticker in self.tickers:\n",
    "                try:\n",
    "                    query = select(func.max(Stock_News.published_utc)).where(Stock_News.ticker_queried == ticker)\n",
    "                    last_date = conn.execute(query).scalar()                \n",
    "                    \n",
    "                    if last_date is not None:\n",
    "                        resp = client.list_ticker_news(ticker, published_utc_gt=last_date, limit=self.limit)\n",
    "                    else:\n",
    "                        resp = client.list_ticker_news(ticker, limit=self.limit)                    \n",
    "                    \n",
    "                \n",
    "                    ticker_df = pd.DataFrame(resp)\n",
    "                    \n",
    "                    if not ticker_df.empty:\n",
    "                        transformed_data = self.transformed_data(ticker_df, ticker)\n",
    "                        all_data.extend(transformed_data)\n",
    "                    else:\n",
    "                        logging.info(f\"No new data for {ticker}\")\n",
    "                except Exception as e:\n",
    "                    logging.error(f\"Error updating stock news for {ticker}: {e}\")\n",
    "                    \n",
    "            \n",
    "            if all_data:\n",
    "                try:\n",
    "                    conn.execute(Stock_News.__table__.insert(),all_data)\n",
    "                except Exception as e:\n",
    "                    logging.error(f\"Error bulk updating stock news for {ticker}: {e}\")\n",
    "                        \n"
   ]
  },
  {
   "cell_type": "code",
   "execution_count": null,
   "metadata": {},
   "outputs": [],
   "source": [
    "updater = News_Update(tickers = 'ABIO', engine = engine)\n",
    "updater.update_data(client)"
   ]
  },
  {
   "cell_type": "code",
   "execution_count": null,
   "metadata": {},
   "outputs": [],
   "source": []
  }
 ],
 "metadata": {
  "kernelspec": {
   "display_name": "base",
   "language": "python",
   "name": "python3"
  },
  "language_info": {
   "codemirror_mode": {
    "name": "ipython",
    "version": 3
   },
   "file_extension": ".py",
   "mimetype": "text/x-python",
   "name": "python",
   "nbconvert_exporter": "python",
   "pygments_lexer": "ipython3",
   "version": "3.11.7"
  }
 },
 "nbformat": 4,
 "nbformat_minor": 2
}
