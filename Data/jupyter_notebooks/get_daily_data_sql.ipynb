{
 "cells": [
  {
   "cell_type": "code",
   "execution_count": 1,
   "metadata": {},
   "outputs": [],
   "source": [
    "\n",
    "import sqlalchemy\n",
    "import pandas as pd\n",
    "import numpy as np\n",
    "from polygon import RESTClient\n",
    "from datetime import datetime, timedelta\n",
    "import datetime as dt\n",
    "import os\n",
    "from dotenv import load_dotenv\n",
    "from connect import engine, Base, Daily_Stock_Data, Hourly_Stock_Data, Minute_Stock_Data\n",
    "from sqlalchemy import select, inspect\n",
    "from sqlalchemy.orm import sessionmaker\n",
    "from sqlalchemy.sql import func\n",
    "import logging\n",
    "from log_config import setup_logging\n",
    "import pytz\n",
    "from sqlalchemy.dialects.postgresql import insert\n"
   ]
  },
  {
   "cell_type": "code",
   "execution_count": 2,
   "metadata": {},
   "outputs": [],
   "source": [
    "setup_logging()"
   ]
  },
  {
   "cell_type": "code",
   "execution_count": 3,
   "metadata": {},
   "outputs": [
    {
     "data": {
      "text/plain": [
       "True"
      ]
     },
     "execution_count": 3,
     "metadata": {},
     "output_type": "execute_result"
    }
   ],
   "source": [
    "load_dotenv()"
   ]
  },
  {
   "cell_type": "code",
   "execution_count": 4,
   "metadata": {},
   "outputs": [],
   "source": [
    "key = os.getenv(\"API_KEY\")\n",
    "client = RESTClient(api_key=key)"
   ]
  },
  {
   "cell_type": "code",
   "execution_count": 5,
   "metadata": {},
   "outputs": [],
   "source": [
    "wiki = 'http://en.wikipedia.org/wiki'"
   ]
  },
  {
   "cell_type": "code",
   "execution_count": 6,
   "metadata": {},
   "outputs": [],
   "source": [
    "djia_ticker_list = wiki + '/Dow_Jones_Industrial_Average'\n",
    "sp500_tickers_list = wiki + '/List_of_S%26P_500_companies'\n",
    "tickersSP500 = pd.read_html(sp500_tickers_list)[0].Symbol.to_list()\n",
    "djia_tickers = pd.read_html(djia_ticker_list)[1].Symbol.to_list()"
   ]
  },
  {
   "cell_type": "code",
   "execution_count": 10,
   "metadata": {},
   "outputs": [],
   "source": [
    "class Market_Data_updater:\n",
    "    \" Class to update stock data from Polygon.io\"\n",
    "    \n",
    "    def __init__(self, tickers, engine, start_date = '2005-01-01', end_date = dt.date.today(),multiplier = 1, timespan = 'day',limit = 50000):\n",
    "        self.tickers = tickers if isinstance(tickers, list) else [tickers]\n",
    "        self.engine = engine\n",
    "        self.start_date = start_date\n",
    "        self.end_date = end_date\n",
    "        self.multiplier = multiplier\n",
    "        self.timespan = timespan\n",
    "        self.limit = limit\n",
    "        logging.info(f\"Initialized Market_Data_updater with {len(self.tickers)} tickers.\")\n",
    "\n",
    "    \n",
    "    \n",
    "    def transform_data(self, df,ticker):\n",
    "        logging.info(f\"Transforming data for ticker {ticker}\")\n",
    "        df['date'] = pd.to_datetime(df['timestamp'], unit = 'ms',utc=True).dt.tz_convert('US/Eastern').dt.tz_localize(None)\n",
    "        df = df.drop(columns = ['otc'])\n",
    "        df['ticker'] = ticker\n",
    "        transformed_data = df.to_dict(orient = 'records')\n",
    "        logging.info(f'Data transformed for ticker {ticker}')\n",
    "        return transformed_data\n",
    "        \n",
    "        \n",
    "    def get_table_name(self):\n",
    "        table_map = {'day': Daily_Stock_Data,\n",
    "                     'hour': Hourly_Stock_Data,\n",
    "                     'minute': Minute_Stock_Data\n",
    "                     }\n",
    "        if self.timespan not in table_map:\n",
    "            logging.error(f'Invalid timespan {self.timespan}. Valid timespans are day, hour, minute.')\n",
    "            raise ValueError(f\"Timespan {self.timespan} is not valid.\")\n",
    "        return table_map[self.timespan]\n",
    "    \n",
    "    def calculate_next_start_date(self, last_date, timespan):\n",
    "        logging.info(f\"Calculating next start date for {timespan} data.\")\n",
    "        eastern = pytz.timezone('US/Eastern')\n",
    "        current_time = datetime.datetime.now().astimezone(eastern)\n",
    "        market_close = current_time.replace(hour=20, minute=0, second=0, microsecond=0)\n",
    "\n",
    "        if timespan == 'day':\n",
    "            next_valid_time = last_date if current_time < market_close else last_date + datetime.timedelta(days=1)\n",
    "            \n",
    "        elif timespan == 'hour':\n",
    "            if current_time.minute > 0:\n",
    "                next_valid_time = current_time.replace(minute=0, second=0, microsecond=0) - datetime.timedelta(hours=1)\n",
    "            else:\n",
    "                next_valid_time = current_time.replace(minute=0, second=0, microsecond=0)\n",
    "        \n",
    "        elif timespan == 'minute':\n",
    "            if current_time.second > 0:\n",
    "                next_valid_time = current_time.replace(second=0, microsecond=0) - datetime.timedelta(minutes=1)\n",
    "            else:\n",
    "                next_valid_time = current_time.replace(second=0, microsecond=0)\n",
    "\n",
    "        logging.info(f\"Next valid start date for {timespan} data is {next_valid_time}\")\n",
    "        return next_valid_time\n",
    "\n",
    "    \n",
    "    def update_data(self, client):\n",
    "        all_data = []\n",
    "        logging.debug(f'Starting data update process for {len(self.tickers)} tickers.')\n",
    "        \n",
    "        with self.engine.connect() as conn:\n",
    "            StockDataClass = self.get_table_name()\n",
    "            for ticker in self.tickers:\n",
    "                try:\n",
    "                    logging.debug(f\"Processing ticker {ticker}.\")\n",
    "                    query = select(func.max(StockDataClass.date)).where(StockDataClass.ticker == ticker)\n",
    "                    last_date = conn.execute(query).scalar()\n",
    "            \n",
    "                    if last_date is not None:\n",
    "                        start_date = self.calculate_next_start_date(last_date, self.timespan)\n",
    "                        if start_date <= last_date:\n",
    "                            logging.info(f\"No new data available for {ticker}.\")\n",
    "                            continue\n",
    "                    else:\n",
    "                        start_date = self.start_date\n",
    "                    \n",
    "                    resp = client.list_aggs(\n",
    "                        ticker, \n",
    "                        multiplier = self.multiplier,\n",
    "                        timespan = self.timespan,\n",
    "                        from_ = start_date, \n",
    "                        to = self.end_date,\n",
    "                        limit = self.limit)\n",
    "                \n",
    "                    ticker_df = pd.DataFrame(resp)\n",
    "                    \n",
    "                    if not ticker_df.empty:\n",
    "                        transformed_data = self.transform_data(ticker_df, ticker)\n",
    "                        all_data.extend(transformed_data)\n",
    "                    else:\n",
    "                        logging.info(f\"No new data available for ticker {ticker}.\")\n",
    "                except Exception as e:\n",
    "                    logging.error(f\"Error updating data for ticker {ticker}: {e}\")\n",
    "                    \n",
    "        \n",
    "                \n",
    "            if all_data:\n",
    "                try:\n",
    "                    table = StockDataClass.__table__\n",
    "                    stmt = insert(table).values(all_data)\n",
    "                    update_dict = {c.name: c for c in stmt.excluded if c.name not in ['date', 'ticker']}\n",
    "                    stmt = stmt.on_conflict_do_update(index_elements=['date', 'ticker'], set_=update_dict)\n",
    "                    conn.execute(stmt)\n",
    "                    conn.commit()\n",
    "                    logging.info(f'Data successfully updated for {len(all_data)} records')\n",
    "                except Exception as e:\n",
    "                    logging.error(f\"Error updating stock data in bulk: {e}\")\n",
    "            else:\n",
    "                logging.info(\"No data to update.\")\n",
    "                conn.rollback()"
   ]
  },
  {
   "cell_type": "code",
   "execution_count": 11,
   "metadata": {},
   "outputs": [],
   "source": [
    "updater = Market_Data_updater(tickers= ['SPY', 'QQQ'], engine = engine)\n",
    "updater.update_data(client)"
   ]
  },
  {
   "cell_type": "code",
   "execution_count": null,
   "metadata": {},
   "outputs": [],
   "source": []
  }
 ],
 "metadata": {
  "kernelspec": {
   "display_name": "base",
   "language": "python",
   "name": "python3"
  },
  "language_info": {
   "codemirror_mode": {
    "name": "ipython",
    "version": 3
   },
   "file_extension": ".py",
   "mimetype": "text/x-python",
   "name": "python",
   "nbconvert_exporter": "python",
   "pygments_lexer": "ipython3",
   "version": "3.11.7"
  }
 },
 "nbformat": 4,
 "nbformat_minor": 2
}
